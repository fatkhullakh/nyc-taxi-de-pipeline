{
 "cells": [
  {
   "cell_type": "code",
   "id": "initial_id",
   "metadata": {
    "collapsed": true,
    "ExecuteTime": {
     "end_time": "2025-06-04T20:46:57.626065Z",
     "start_time": "2025-06-04T20:46:57.615455Z"
    }
   },
   "source": [
    "import pandas as pd\n",
    "import numpy as np\n",
    "import os"
   ],
   "outputs": [],
   "execution_count": 3
  },
  {
   "metadata": {
    "ExecuteTime": {
     "end_time": "2025-06-04T20:46:57.694882Z",
     "start_time": "2025-06-04T20:46:57.688724Z"
    }
   },
   "cell_type": "code",
   "source": [
    "parquet_path = '../data/raw/yellow_tripdata_2021-01.parquet'\n",
    "output_path = '../data/clean/yellow_tripdata_2021-01-cleaned.parquet'"
   ],
   "id": "15f30e8e1e1b28f1",
   "outputs": [],
   "execution_count": 4
  },
  {
   "metadata": {
    "ExecuteTime": {
     "end_time": "2025-06-04T20:46:58.979068Z",
     "start_time": "2025-06-04T20:46:57.960538Z"
    }
   },
   "cell_type": "code",
   "source": "df = pd.read_parquet(parquet_path)",
   "id": "3214d362468bc46d",
   "outputs": [
    {
     "ename": "ImportError",
     "evalue": "Unable to find a usable engine; tried using: 'pyarrow', 'fastparquet'.\nA suitable version of pyarrow or fastparquet is required for parquet support.\nTrying to import the above resulted in these errors:\n - Missing optional dependency 'pyarrow'. pyarrow is required for parquet support. Use pip or conda to install pyarrow.\n - Missing optional dependency 'fastparquet'. fastparquet is required for parquet support. Use pip or conda to install fastparquet.",
     "output_type": "error",
     "traceback": [
      "\u001B[31m---------------------------------------------------------------------------\u001B[39m",
      "\u001B[31mImportError\u001B[39m                               Traceback (most recent call last)",
      "\u001B[36mCell\u001B[39m\u001B[36m \u001B[39m\u001B[32mIn[5]\u001B[39m\u001B[32m, line 1\u001B[39m\n\u001B[32m----> \u001B[39m\u001B[32m1\u001B[39m df = \u001B[43mpd\u001B[49m\u001B[43m.\u001B[49m\u001B[43mread_parquet\u001B[49m\u001B[43m(\u001B[49m\u001B[43mparquet_path\u001B[49m\u001B[43m)\u001B[49m\n",
      "\u001B[36mFile \u001B[39m\u001B[32m~\\AppData\\Local\\Packages\\PythonSoftwareFoundation.Python.3.12_qbz5n2kfra8p0\\LocalCache\\local-packages\\Python312\\site-packages\\pandas\\io\\parquet.py:651\u001B[39m, in \u001B[36mread_parquet\u001B[39m\u001B[34m(path, engine, columns, storage_options, use_nullable_dtypes, dtype_backend, filesystem, filters, **kwargs)\u001B[39m\n\u001B[32m    498\u001B[39m \u001B[38;5;129m@doc\u001B[39m(storage_options=_shared_docs[\u001B[33m\"\u001B[39m\u001B[33mstorage_options\u001B[39m\u001B[33m\"\u001B[39m])\n\u001B[32m    499\u001B[39m \u001B[38;5;28;01mdef\u001B[39;00m\u001B[38;5;250m \u001B[39m\u001B[34mread_parquet\u001B[39m(\n\u001B[32m    500\u001B[39m     path: FilePath | ReadBuffer[\u001B[38;5;28mbytes\u001B[39m],\n\u001B[32m   (...)\u001B[39m\u001B[32m    508\u001B[39m     **kwargs,\n\u001B[32m    509\u001B[39m ) -> DataFrame:\n\u001B[32m    510\u001B[39m \u001B[38;5;250m    \u001B[39m\u001B[33;03m\"\"\"\u001B[39;00m\n\u001B[32m    511\u001B[39m \u001B[33;03m    Load a parquet object from the file path, returning a DataFrame.\u001B[39;00m\n\u001B[32m    512\u001B[39m \n\u001B[32m   (...)\u001B[39m\u001B[32m    648\u001B[39m \u001B[33;03m    1    4    9\u001B[39;00m\n\u001B[32m    649\u001B[39m \u001B[33;03m    \"\"\"\u001B[39;00m\n\u001B[32m--> \u001B[39m\u001B[32m651\u001B[39m     impl = \u001B[43mget_engine\u001B[49m\u001B[43m(\u001B[49m\u001B[43mengine\u001B[49m\u001B[43m)\u001B[49m\n\u001B[32m    653\u001B[39m     \u001B[38;5;28;01mif\u001B[39;00m use_nullable_dtypes \u001B[38;5;129;01mis\u001B[39;00m \u001B[38;5;129;01mnot\u001B[39;00m lib.no_default:\n\u001B[32m    654\u001B[39m         msg = (\n\u001B[32m    655\u001B[39m             \u001B[33m\"\u001B[39m\u001B[33mThe argument \u001B[39m\u001B[33m'\u001B[39m\u001B[33muse_nullable_dtypes\u001B[39m\u001B[33m'\u001B[39m\u001B[33m is deprecated and will be removed \u001B[39m\u001B[33m\"\u001B[39m\n\u001B[32m    656\u001B[39m             \u001B[33m\"\u001B[39m\u001B[33min a future version.\u001B[39m\u001B[33m\"\u001B[39m\n\u001B[32m    657\u001B[39m         )\n",
      "\u001B[36mFile \u001B[39m\u001B[32m~\\AppData\\Local\\Packages\\PythonSoftwareFoundation.Python.3.12_qbz5n2kfra8p0\\LocalCache\\local-packages\\Python312\\site-packages\\pandas\\io\\parquet.py:67\u001B[39m, in \u001B[36mget_engine\u001B[39m\u001B[34m(engine)\u001B[39m\n\u001B[32m     64\u001B[39m         \u001B[38;5;28;01mexcept\u001B[39;00m \u001B[38;5;167;01mImportError\u001B[39;00m \u001B[38;5;28;01mas\u001B[39;00m err:\n\u001B[32m     65\u001B[39m             error_msgs += \u001B[33m\"\u001B[39m\u001B[38;5;130;01m\\n\u001B[39;00m\u001B[33m - \u001B[39m\u001B[33m\"\u001B[39m + \u001B[38;5;28mstr\u001B[39m(err)\n\u001B[32m---> \u001B[39m\u001B[32m67\u001B[39m     \u001B[38;5;28;01mraise\u001B[39;00m \u001B[38;5;167;01mImportError\u001B[39;00m(\n\u001B[32m     68\u001B[39m         \u001B[33m\"\u001B[39m\u001B[33mUnable to find a usable engine; \u001B[39m\u001B[33m\"\u001B[39m\n\u001B[32m     69\u001B[39m         \u001B[33m\"\u001B[39m\u001B[33mtried using: \u001B[39m\u001B[33m'\u001B[39m\u001B[33mpyarrow\u001B[39m\u001B[33m'\u001B[39m\u001B[33m, \u001B[39m\u001B[33m'\u001B[39m\u001B[33mfastparquet\u001B[39m\u001B[33m'\u001B[39m\u001B[33m.\u001B[39m\u001B[38;5;130;01m\\n\u001B[39;00m\u001B[33m\"\u001B[39m\n\u001B[32m     70\u001B[39m         \u001B[33m\"\u001B[39m\u001B[33mA suitable version of \u001B[39m\u001B[33m\"\u001B[39m\n\u001B[32m     71\u001B[39m         \u001B[33m\"\u001B[39m\u001B[33mpyarrow or fastparquet is required for parquet \u001B[39m\u001B[33m\"\u001B[39m\n\u001B[32m     72\u001B[39m         \u001B[33m\"\u001B[39m\u001B[33msupport.\u001B[39m\u001B[38;5;130;01m\\n\u001B[39;00m\u001B[33m\"\u001B[39m\n\u001B[32m     73\u001B[39m         \u001B[33m\"\u001B[39m\u001B[33mTrying to import the above resulted in these errors:\u001B[39m\u001B[33m\"\u001B[39m\n\u001B[32m     74\u001B[39m         \u001B[33mf\u001B[39m\u001B[33m\"\u001B[39m\u001B[38;5;132;01m{\u001B[39;00merror_msgs\u001B[38;5;132;01m}\u001B[39;00m\u001B[33m\"\u001B[39m\n\u001B[32m     75\u001B[39m     )\n\u001B[32m     77\u001B[39m \u001B[38;5;28;01mif\u001B[39;00m engine == \u001B[33m\"\u001B[39m\u001B[33mpyarrow\u001B[39m\u001B[33m\"\u001B[39m:\n\u001B[32m     78\u001B[39m     \u001B[38;5;28;01mreturn\u001B[39;00m PyArrowImpl()\n",
      "\u001B[31mImportError\u001B[39m: Unable to find a usable engine; tried using: 'pyarrow', 'fastparquet'.\nA suitable version of pyarrow or fastparquet is required for parquet support.\nTrying to import the above resulted in these errors:\n - Missing optional dependency 'pyarrow'. pyarrow is required for parquet support. Use pip or conda to install pyarrow.\n - Missing optional dependency 'fastparquet'. fastparquet is required for parquet support. Use pip or conda to install fastparquet."
     ]
    }
   ],
   "execution_count": 5
  },
  {
   "metadata": {},
   "cell_type": "code",
   "outputs": [],
   "execution_count": null,
   "source": [
    "df = df.dropna(subset=['passenger_count', 'RatecodeID', 'store_and_fwd_flag', 'congestion_surcharge',])\n",
    "df = df.drop(columns=['airport_fee'])\n",
    "\n",
    "df = df[\n",
    "    (df['trip_distance'] > 0) &\n",
    "    (df['fare_amount'] > 0) &\n",
    "    (df['passenger_count'] > 0)\n",
    "]\n",
    "\n",
    "df.to_parquet(output_path, index=False)"
   ],
   "id": "ee032462694f09ec"
  },
  {
   "metadata": {},
   "cell_type": "code",
   "outputs": [],
   "execution_count": null,
   "source": [
    "print(df.head())\n",
    "print(f\"Rows after cleaning: {len(df)}\")"
   ],
   "id": "2ccbbaef9b8ec90f"
  }
 ],
 "metadata": {
  "kernelspec": {
   "display_name": "Python 3",
   "language": "python",
   "name": "python3"
  },
  "language_info": {
   "codemirror_mode": {
    "name": "ipython",
    "version": 2
   },
   "file_extension": ".py",
   "mimetype": "text/x-python",
   "name": "python",
   "nbconvert_exporter": "python",
   "pygments_lexer": "ipython2",
   "version": "2.7.6"
  }
 },
 "nbformat": 4,
 "nbformat_minor": 5
}
